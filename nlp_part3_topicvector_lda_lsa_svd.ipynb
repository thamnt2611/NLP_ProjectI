{
 "cells": [
  {
   "cell_type": "markdown",
   "metadata": {},
   "source": [
    " **SMS spam dataset**"
   ]
  },
  {
   "cell_type": "code",
   "execution_count": 1,
   "metadata": {},
   "outputs": [
    {
     "name": "stdout",
     "output_type": "stream",
     "text": [
      "lenght: 4837\n",
      "number of spams: 638\n"
     ]
    },
    {
     "data": {
      "text/html": [
       "<div>\n",
       "<style scoped>\n",
       "    .dataframe tbody tr th:only-of-type {\n",
       "        vertical-align: middle;\n",
       "    }\n",
       "\n",
       "    .dataframe tbody tr th {\n",
       "        vertical-align: top;\n",
       "    }\n",
       "\n",
       "    .dataframe thead th {\n",
       "        text-align: right;\n",
       "    }\n",
       "</style>\n",
       "<table border=\"1\" class=\"dataframe\">\n",
       "  <thead>\n",
       "    <tr style=\"text-align: right;\">\n",
       "      <th></th>\n",
       "      <th>spam</th>\n",
       "      <th>text</th>\n",
       "    </tr>\n",
       "  </thead>\n",
       "  <tbody>\n",
       "    <tr>\n",
       "      <th>0</th>\n",
       "      <td>0</td>\n",
       "      <td>Go until jurong point, crazy.. Available only ...</td>\n",
       "    </tr>\n",
       "    <tr>\n",
       "      <th>1</th>\n",
       "      <td>0</td>\n",
       "      <td>Ok lar... Joking wif u oni...</td>\n",
       "    </tr>\n",
       "    <tr>\n",
       "      <th>2</th>\n",
       "      <td>1</td>\n",
       "      <td>Free entry in 2 a wkly comp to win FA Cup fina...</td>\n",
       "    </tr>\n",
       "    <tr>\n",
       "      <th>3</th>\n",
       "      <td>0</td>\n",
       "      <td>U dun say so early hor... U c already then say...</td>\n",
       "    </tr>\n",
       "    <tr>\n",
       "      <th>4</th>\n",
       "      <td>0</td>\n",
       "      <td>Nah I don't think he goes to usf, he lives aro...</td>\n",
       "    </tr>\n",
       "  </tbody>\n",
       "</table>\n",
       "</div>"
      ],
      "text/plain": [
       "   spam                                               text\n",
       "0     0  Go until jurong point, crazy.. Available only ...\n",
       "1     0                      Ok lar... Joking wif u oni...\n",
       "2     1  Free entry in 2 a wkly comp to win FA Cup fina...\n",
       "3     0  U dun say so early hor... U c already then say...\n",
       "4     0  Nah I don't think he goes to usf, he lives aro..."
      ]
     },
     "execution_count": 1,
     "metadata": {},
     "output_type": "execute_result"
    }
   ],
   "source": [
    "import pandas as pd\n",
    "sms = pd.read_csv('sms-spam.csv')\n",
    "print('lenght: {}'.format(len(sms)))\n",
    "print('number of spams: {}'.format(sms.spam.sum()))\n",
    "sms.head()"
   ]
  },
  {
   "cell_type": "markdown",
   "metadata": {},
   "source": [
    "**convert to tf-idf vector**"
   ]
  },
  {
   "cell_type": "code",
   "execution_count": 2,
   "metadata": {},
   "outputs": [
    {
     "data": {
      "text/plain": [
       "(4837, 9232)"
      ]
     },
     "execution_count": 2,
     "metadata": {},
     "output_type": "execute_result"
    }
   ],
   "source": [
    "import numpy as np\n",
    "from sklearn.feature_extraction.text import TfidfVectorizer\n",
    "from nltk.tokenize.casual import casual_tokenize\n",
    "tfidf_model = TfidfVectorizer(tokenizer=casual_tokenize)\n",
    "tfidf_docs = tfidf_model.fit_transform(sms.text).toarray()\n",
    "tfidf_docs.shape"
   ]
  },
  {
   "cell_type": "markdown",
   "metadata": {},
   "source": [
    "# LDA Classifier"
   ]
  },
  {
   "cell_type": "markdown",
   "metadata": {},
   "source": [
    "**Tính toán tâm của các điểm dữ liệu trong mỗi chủ đề**"
   ]
  },
  {
   "cell_type": "code",
   "execution_count": 3,
   "metadata": {},
   "outputs": [
    {
     "data": {
      "text/plain": [
       "array([False, False,  True, ..., False, False, False])"
      ]
     },
     "execution_count": 3,
     "metadata": {},
     "output_type": "execute_result"
    }
   ],
   "source": [
    "mask = sms.spam.astype(bool).values\n",
    "mask"
   ]
  },
  {
   "cell_type": "code",
   "execution_count": 4,
   "metadata": {},
   "outputs": [],
   "source": [
    "spam_centroid = tfidf_docs[mask].mean(axis = 0)\n",
    "nspam_centroid = tfidf_docs[~mask].mean(axis=0)"
   ]
  },
  {
   "cell_type": "code",
   "execution_count": 5,
   "metadata": {},
   "outputs": [
    {
     "data": {
      "text/plain": [
       "array([0.06, 0.  , 0.  , ..., 0.  , 0.  , 0.  ])"
      ]
     },
     "execution_count": 5,
     "metadata": {},
     "output_type": "execute_result"
    }
   ],
   "source": [
    "spam_centroid.round(2)"
   ]
  },
  {
   "cell_type": "code",
   "execution_count": 6,
   "metadata": {},
   "outputs": [
    {
     "data": {
      "text/plain": [
       "array([0.02, 0.01, 0.  , ..., 0.  , 0.  , 0.  ])"
      ]
     },
     "execution_count": 6,
     "metadata": {},
     "output_type": "execute_result"
    }
   ],
   "source": [
    "nspam_centroid.round(2)"
   ]
  },
  {
   "cell_type": "markdown",
   "metadata": {},
   "source": [
    "**Tính toán đường nối 2 tâm**"
   ]
  },
  {
   "cell_type": "code",
   "execution_count": 7,
   "metadata": {},
   "outputs": [
    {
     "data": {
      "text/plain": [
       "array([ 4.39266024e-02, -1.92685506e-03,  3.84287194e-04, ...,\n",
       "       -6.31869803e-05, -6.31869803e-05, -6.31869803e-05])"
      ]
     },
     "execution_count": 7,
     "metadata": {},
     "output_type": "execute_result"
    }
   ],
   "source": [
    "line = spam_centroid - nspam_centroid\n",
    "line"
   ]
  },
  {
   "cell_type": "markdown",
   "metadata": {},
   "source": [
    "**Chiếu các vector tfidf lên đường nối đó**"
   ]
  },
  {
   "cell_type": "code",
   "execution_count": 8,
   "metadata": {},
   "outputs": [
    {
     "data": {
      "text/plain": [
       "array([-0.01, -0.02,  0.04, ..., -0.01, -0.  ,  0.  ])"
      ]
     },
     "execution_count": 8,
     "metadata": {},
     "output_type": "execute_result"
    }
   ],
   "source": [
    "spam_score = tfidf_docs.dot(line)\n",
    "spam_score.round(2)"
   ]
  },
  {
   "cell_type": "markdown",
   "metadata": {},
   "source": [
    "**Chuyển về dạng xác suất**\n",
    "\n",
    "sử dụng threshole = 0.5 để xác định spam sms"
   ]
  },
  {
   "cell_type": "code",
   "execution_count": 9,
   "metadata": {},
   "outputs": [
    {
     "data": {
      "text/html": [
       "<div>\n",
       "<style scoped>\n",
       "    .dataframe tbody tr th:only-of-type {\n",
       "        vertical-align: middle;\n",
       "    }\n",
       "\n",
       "    .dataframe tbody tr th {\n",
       "        vertical-align: top;\n",
       "    }\n",
       "\n",
       "    .dataframe thead th {\n",
       "        text-align: right;\n",
       "    }\n",
       "</style>\n",
       "<table border=\"1\" class=\"dataframe\">\n",
       "  <thead>\n",
       "    <tr style=\"text-align: right;\">\n",
       "      <th></th>\n",
       "      <th>spam</th>\n",
       "      <th>text</th>\n",
       "      <th>lda_scale_score</th>\n",
       "      <th>spam_score</th>\n",
       "      <th>lds_predict</th>\n",
       "    </tr>\n",
       "  </thead>\n",
       "  <tbody>\n",
       "    <tr>\n",
       "      <th>0</th>\n",
       "      <td>0</td>\n",
       "      <td>Go until jurong point, crazy.. Available only ...</td>\n",
       "      <td>0.227478</td>\n",
       "      <td>-0.014698</td>\n",
       "      <td>0</td>\n",
       "    </tr>\n",
       "    <tr>\n",
       "      <th>1</th>\n",
       "      <td>0</td>\n",
       "      <td>Ok lar... Joking wif u oni...</td>\n",
       "      <td>0.177888</td>\n",
       "      <td>-0.020074</td>\n",
       "      <td>0</td>\n",
       "    </tr>\n",
       "    <tr>\n",
       "      <th>2</th>\n",
       "      <td>1</td>\n",
       "      <td>Free entry in 2 a wkly comp to win FA Cup fina...</td>\n",
       "      <td>0.718785</td>\n",
       "      <td>0.038561</td>\n",
       "      <td>1</td>\n",
       "    </tr>\n",
       "    <tr>\n",
       "      <th>3</th>\n",
       "      <td>0</td>\n",
       "      <td>U dun say so early hor... U c already then say...</td>\n",
       "      <td>0.184565</td>\n",
       "      <td>-0.019350</td>\n",
       "      <td>0</td>\n",
       "    </tr>\n",
       "    <tr>\n",
       "      <th>4</th>\n",
       "      <td>0</td>\n",
       "      <td>Nah I don't think he goes to usf, he lives aro...</td>\n",
       "      <td>0.286944</td>\n",
       "      <td>-0.008252</td>\n",
       "      <td>0</td>\n",
       "    </tr>\n",
       "    <tr>\n",
       "      <th>5</th>\n",
       "      <td>1</td>\n",
       "      <td>FreeMsg Hey there darling it's been 3 week's n...</td>\n",
       "      <td>0.548003</td>\n",
       "      <td>0.020048</td>\n",
       "      <td>1</td>\n",
       "    </tr>\n",
       "  </tbody>\n",
       "</table>\n",
       "</div>"
      ],
      "text/plain": [
       "   spam                                               text  lda_scale_score  \\\n",
       "0     0  Go until jurong point, crazy.. Available only ...         0.227478   \n",
       "1     0                      Ok lar... Joking wif u oni...         0.177888   \n",
       "2     1  Free entry in 2 a wkly comp to win FA Cup fina...         0.718785   \n",
       "3     0  U dun say so early hor... U c already then say...         0.184565   \n",
       "4     0  Nah I don't think he goes to usf, he lives aro...         0.286944   \n",
       "5     1  FreeMsg Hey there darling it's been 3 week's n...         0.548003   \n",
       "\n",
       "   spam_score  lds_predict  \n",
       "0   -0.014698            0  \n",
       "1   -0.020074            0  \n",
       "2    0.038561            1  \n",
       "3   -0.019350            0  \n",
       "4   -0.008252            0  \n",
       "5    0.020048            1  "
      ]
     },
     "execution_count": 9,
     "metadata": {},
     "output_type": "execute_result"
    }
   ],
   "source": [
    "from sklearn.preprocessing import MinMaxScaler\n",
    "sms['lda_scale_score'] = MinMaxScaler().fit_transform(spam_score.reshape(-1,1))\n",
    "sms['spam_score'] = spam_score\n",
    "sms['lds_predict']=(sms.lda_scale_score>0.5).astype(int)\n",
    "sms.head(6)"
   ]
  },
  {
   "cell_type": "markdown",
   "metadata": {},
   "source": [
    "**Đánh giá mô hình**"
   ]
  },
  {
   "cell_type": "code",
   "execution_count": 10,
   "metadata": {},
   "outputs": [
    {
     "data": {
      "text/plain": [
       "0.977"
      ]
     },
     "execution_count": 10,
     "metadata": {},
     "output_type": "execute_result"
    }
   ],
   "source": [
    "model_score = (1-(sms.spam - sms.lds_predict).abs().sum()/len(sms)).round(3)\n",
    "model_score"
   ]
  },
  {
   "cell_type": "markdown",
   "metadata": {},
   "source": [
    "# Understanding SVD Implementation\n"
   ]
  },
  {
   "cell_type": "markdown",
   "metadata": {},
   "source": [
    "https://github.com/totalgood/nlpia/blob/master/src/nlpia/book/examples/ch04_catdog_lsa_sorted.py"
   ]
  },
  {
   "cell_type": "code",
   "execution_count": 11,
   "metadata": {},
   "outputs": [],
   "source": [
    "from sklearn.feature_extraction.text import TfidfVectorizer\n",
    "import matplotlib.pyplot as plt"
   ]
  },
  {
   "cell_type": "markdown",
   "metadata": {},
   "source": [
    "Hàm docs_to_tdm thực hiện chuyển tập văn bản thành ma trận term-document (tdm) trong đó bao gồm:\n",
    "- ma trận tfidf trong đó vector hàng là vector tfidf cho mỗi văn bản\n",
    "- ma trận Bag-of-words(BOW) trong đó vector hàng là vector BOW cho mỗi văn bản\n",
    "\n",
    "Hàm trả về ma trận tfidf, bow và mô hình dùng để vector hóa đã được huấn luyện"
   ]
  },
  {
   "cell_type": "code",
   "execution_count": 12,
   "metadata": {},
   "outputs": [],
   "source": [
    "def docs_to_tdm(docs, vocabulary):\n",
    "    tfidfer = TfidfVectorizer(tokenizer = casual_tokenize, vocabulary = vocabulary)\n",
    "    # make a tf-idf matrix using todense()\n",
    "    tfidf_matrix = pd.DataFrame(tfidfer.fit_transform(docs).todense())\n",
    "    id_words = [(i, w) for (w, i) in tfidfer.vocabulary_.items()]\n",
    "    tfidf_matrix.columns = list(zip(*sorted(id_words)))[1]\n",
    "    \n",
    "    tfidfer.use_idf = False\n",
    "    tfidfer.norm = None\n",
    "    bow_matrix = pd.DataFrame(tfidfer.fit_transform(docs).todense())\n",
    "    bow_matrix.columns = list(zip(*sorted(id_words)))[1]\n",
    "    bow_matrix = bow_matrix.astype(int)\n",
    "    tfidfer.use_idf = True\n",
    "    tfidfer.norm = 'l2'\n",
    "    return bow_matrix.T, tfidf_matrix.T, tfidfer "
   ]
  },
  {
   "cell_type": "markdown",
   "metadata": {},
   "source": [
    "Hàm lsa dùng để phân tích ma trận term-document thành các ma trận u, s, vt bằng cách sử dụng hàm **svd** trong thư viện numpy\n",
    "\n",
    "trong đó: \n",
    "tdm = u.s.vt"
   ]
  },
  {
   "cell_type": "code",
   "execution_count": 31,
   "metadata": {},
   "outputs": [],
   "source": [
    "def lsa(tdm):\n",
    "    u, s, vt = np.linalg.svd(tdm)\n",
    "    u = pd.DataFrame(u, index=tdm.index)\n",
    "    vt = pd.DataFrame(vt, index = ['d{}'.format(i) for i in range(len(vt))])\n",
    "    print('\\nTerm-document matrix:\\n')\n",
    "    print(tdm)\n",
    "    print('\\nU\\n')\n",
    "    print(u.round(2))\n",
    "    print('\\nS diagonal\\n')\n",
    "    print(s.round(2))\n",
    "    print('\\nVT\\n')\n",
    "    print(vt.round(2))\n",
    "    return {'u': u, 's': s, 'vt':vt, 'tdm':tdm}"
   ]
  },
  {
   "cell_type": "markdown",
   "metadata": {},
   "source": [
    "Hàm accuracy_study thực hiện tính toán lỗi trong mỗi lần thực hiện giảm số chiều của dữ liệu.\n",
    "\n",
    "Để giảm số chiều dữ liệu, ta thực hiện thay giá trị trên đường chéo của ma trận S thành 0 theo chiều từ dưới lên trên (phải qua trái) tức là theo mức độ giảm tính quan trọng của topic\n",
    "\n",
    "Error được đo bằng sự sai khác giữa ma trận tdm ban đầu và ma trận tdm lúc sau (tích của u, s, vt sau khi đã giảm số chiều). Mỗi lần giảm error sẽ được ghi lại vào mảng"
   ]
  },
  {
   "cell_type": "code",
   "execution_count": null,
   "metadata": {},
   "outputs": [],
   "source": [
    "def accuracy_study(tdm= None, u = None, s = None, vt = None, **kwargs):\n",
    "    smat = np.zeros((len(u), len(vt)))\n",
    "    np.fill_diagonal(smat, s)\n",
    "    smat = pd.DataFrame(smat, columns = vt.index, index = u.index)\n",
    "    tdm_prime = u.values.dot(smat.values).dot(vt.values)\n",
    "    err = [np.sqrt(((tdm_prime-tdm).values.flatten()**2).sum()/np.product(tdm.shape))]\n",
    "    \n",
    "    smat2 = smat.copy()\n",
    "    for numdim in range(len(s)-1, 0, -1):\n",
    "        smat2.iloc[numdim, numdim]=0\n",
    "        tdm_prime2 = u.values.dot(smat2.values).dot(vt.values)\n",
    "        err += [np.sqrt(((tdm_prime2-tdm).values.flatten()**2).sum()/np.product(tdm.shape))]\n",
    "    return err"
   ]
  },
  {
   "cell_type": "markdown",
   "metadata": {},
   "source": [
    "Vẽ biểu đồ thể hiện sự mất mát thông tin sau mỗi lần giảm số chiều"
   ]
  },
  {
   "cell_type": "code",
   "execution_count": null,
   "metadata": {},
   "outputs": [],
   "source": [
    "def plot_feature_selection(accuracy):\n",
    "    plt.plot(range(len(accuracy)), accuracy)\n",
    "    plt.title('LSA Model Accuracy')\n",
    "    plt.xlabel('Number of Dimensions Eliminated')\n",
    "    plt.ylabel('Reconstruction Accuracy')\n",
    "    plt.grid(True)\n",
    "    plt.tight_layout()\n",
    "    return accuracy"
   ]
  },
  {
   "cell_type": "markdown",
   "metadata": {},
   "source": [
    "Xây dựng mô hình lsa bao gồm các thuộc tính: ma trận s, u, vt, tập từ vựng, tập văn bản, độ chính xác, lỗi\n",
    "    \n",
    "Ở đây lsa_models sẽ trả về 2 model : một cái dựa theo tfidf, một cái dựa theo bow"
   ]
  },
  {
   "cell_type": "code",
   "execution_count": 13,
   "metadata": {},
   "outputs": [],
   "source": [
    "def lsa_models(vocabulary= None, docs= None):\n",
    "    tdm, tfidfdm, tfidfer = docs_to_tdm(docs = docs, vocabulary = vocabulary)\n",
    "    lsa_bow_model = lsa(tdm)\n",
    "    lsa_bow_model['vocabulary'] = tdm.index.values\n",
    "    lsa_bow_model['docs'] = docs\n",
    "    err = accuracy_study(**lsa_bow_model)\n",
    "    lsa_bow_model['err'] = err\n",
    "    lsa_bow_model['accuracy'] = list(1.-np.array(err))\n",
    "    \n",
    "    lsa_tfidf_model = lsa(tfidfdm)\n",
    "    lsa_tfidf_model['vocabulary'] = tfidfdm.index.values\n",
    "    lsa_tfidf_model['docs'] = docs\n",
    "    err = accuracy_study(**lsa_tfidf_model)\n",
    "    lsa_tfidf_model['err'] = err\n",
    "    lsa_tfidf_model['accuracy'] = list(1.-np.array(err))\n",
    "    \n",
    "    return lsa_bow_model, lsa_tfidf_model"
   ]
  },
  {
   "cell_type": "code",
   "execution_count": 32,
   "metadata": {},
   "outputs": [
    {
     "name": "stdout",
     "output_type": "stream",
     "text": [
      "\n",
      "Term-document matrix:\n",
      "\n",
      "       0  1  2  3  4  5  6  7  8  9  10\n",
      "cat    0  0  0  0  0  0  1  1  1  0   1\n",
      "dog    0  0  0  0  0  0  0  0  0  0   1\n",
      "apple  1  1  0  1  1  1  0  0  0  0   0\n",
      "lion   0  0  0  0  0  0  0  1  0  0   0\n",
      "nyc    1  1  1  1  1  0  0  0  0  1   0\n",
      "love   0  0  1  0  0  0  0  0  1  1   0\n",
      "\n",
      "U\n",
      "\n",
      "          0     1     2     3     4     5\n",
      "cat   -0.04  0.83 -0.38  0.00  0.11 -0.38\n",
      "dog   -0.00  0.21 -0.18 -0.71 -0.39  0.52\n",
      "apple -0.62 -0.21 -0.51  0.00  0.49  0.27\n",
      "lion  -0.00  0.21 -0.18  0.71 -0.39  0.52\n",
      "nyc   -0.75 -0.00  0.24 -0.00 -0.52 -0.32\n",
      "love  -0.22  0.42  0.69  0.00  0.41  0.37\n",
      "\n",
      "S diagonal\n",
      "\n",
      "[3.14 2.24 1.77 1.   0.84 0.52]\n",
      "\n",
      "VT\n",
      "\n",
      "        0     1     2     3     4     5     6     7     8     9    10\n",
      "d0  -0.44 -0.44 -0.31 -0.44 -0.44 -0.20 -0.01 -0.01 -0.08 -0.31 -0.01\n",
      "d1  -0.09 -0.09  0.19 -0.09 -0.09 -0.09  0.37  0.47  0.56  0.19  0.47\n",
      "d2  -0.16 -0.16  0.52 -0.16 -0.16 -0.29 -0.22 -0.32  0.17  0.52 -0.32\n",
      "d3   0.00 -0.00 -0.00 -0.00 -0.00  0.00 -0.00  0.71  0.00 -0.00 -0.71\n",
      "d4  -0.04 -0.04 -0.14 -0.04 -0.04  0.58  0.13 -0.33  0.62 -0.14 -0.33\n",
      "d5  -0.09 -0.09  0.10 -0.09 -0.09  0.51 -0.73  0.27 -0.01  0.10  0.27\n",
      "d6  -0.57  0.21  0.11  0.33 -0.31  0.34  0.34 -0.00 -0.34  0.23  0.00\n",
      "d7  -0.32  0.47  0.25 -0.63  0.41  0.07  0.07  0.00 -0.07 -0.18  0.00\n",
      "d8  -0.50  0.29 -0.20  0.41  0.16 -0.37 -0.37 -0.00  0.37 -0.17  0.00\n",
      "d9  -0.15 -0.15 -0.59 -0.15  0.42  0.04  0.04  0.00 -0.04  0.63 -0.00\n",
      "d10 -0.26 -0.62  0.33  0.24  0.54  0.09  0.09  0.00 -0.09 -0.23 -0.00\n",
      "\n",
      "Term-document matrix:\n",
      "\n",
      "              0         1         2         3         4    5    6         7  \\\n",
      "cat    0.000000  0.000000  0.000000  0.000000  0.000000  0.0  1.0  0.557639   \n",
      "dog    0.000000  0.000000  0.000000  0.000000  0.000000  0.0  0.0  0.000000   \n",
      "apple  0.739990  0.739990  0.000000  0.739990  0.739990  1.0  0.0  0.000000   \n",
      "lion   0.000000  0.000000  0.000000  0.000000  0.000000  0.0  0.0  0.830083   \n",
      "nyc    0.672618  0.672618  0.591367  0.672618  0.672618  0.0  0.0  0.000000   \n",
      "love   0.000000  0.000000  0.806402  0.000000  0.000000  0.0  0.0  0.000000   \n",
      "\n",
      "              8         9        10  \n",
      "cat    0.666353  0.000000  0.557639  \n",
      "dog    0.000000  0.000000  0.830083  \n",
      "apple  0.000000  0.000000  0.000000  \n",
      "lion   0.000000  0.000000  0.000000  \n",
      "nyc    0.000000  0.591367  0.000000  \n",
      "love   0.745636  0.806402  0.000000  \n",
      "\n",
      "U\n",
      "\n",
      "          0     1     2     3     4     5\n",
      "cat   -0.04  0.75 -0.53  0.00  0.20 -0.34\n",
      "dog   -0.00  0.18 -0.21 -0.71 -0.49  0.43\n",
      "apple -0.72 -0.26 -0.39  0.00  0.38  0.33\n",
      "lion  -0.00  0.18 -0.21  0.71 -0.49  0.43\n",
      "nyc   -0.66  0.07  0.27 -0.00 -0.51 -0.48\n",
      "love  -0.21  0.55  0.63 -0.00  0.29  0.41\n",
      "\n",
      "S diagonal\n",
      "\n",
      "[2.24 1.63 1.36 0.83 0.71 0.56]\n",
      "\n",
      "VT\n",
      "\n",
      "        0     1     2     3     4     5     6     7     8     9    10\n",
      "d0  -0.44 -0.44 -0.25 -0.44 -0.44 -0.32 -0.02 -0.01 -0.08 -0.25 -0.01\n",
      "d1  -0.09 -0.09  0.30 -0.09 -0.09 -0.16  0.46  0.35  0.56  0.30  0.35\n",
      "d2  -0.08 -0.08  0.49 -0.08 -0.08 -0.29 -0.39 -0.35  0.09  0.49 -0.35\n",
      "d3  -0.00 -0.00 -0.00 -0.00 -0.00  0.00 -0.00  0.71  0.00 -0.00 -0.71\n",
      "d4  -0.09 -0.09 -0.10 -0.09 -0.09  0.53  0.28 -0.42  0.49 -0.10 -0.42\n",
      "d5  -0.14 -0.14  0.08 -0.14 -0.14  0.59 -0.61  0.29  0.14  0.08  0.29\n",
      "d6  -0.58  0.41  0.34 -0.24  0.07  0.25  0.28  0.00 -0.42  0.05 -0.00\n",
      "d7  -0.51  0.04 -0.18  0.78 -0.26 -0.04 -0.05 -0.00  0.07  0.12 -0.00\n",
      "d8  -0.34  0.32 -0.06 -0.11  0.50 -0.28 -0.31  0.00  0.46 -0.36  0.00\n",
      "d9  -0.17 -0.17 -0.56 -0.17  0.45  0.04  0.05 -0.00 -0.07  0.62 -0.00\n",
      "d10 -0.15 -0.69  0.35  0.24  0.49  0.08  0.09 -0.00 -0.14 -0.23 -0.00\n",
      "BOW accuracy after multiplying Truncated SVD back:\n",
      "[1.    0.936 0.878 0.827 0.721 0.608]\n",
      "TF-IDF accuracy after multiplying Truncated SVD back:\n",
      "[1.    0.931 0.889 0.849 0.775 0.698]\n"
     ]
    },
    {
     "data": {
      "image/png": "[encoded data removed]",
      "text/plain": [
       "<Figure size 432x288 with 1 Axes>"
      ]
     },
     "metadata": {
      "needs_background": "light"
     },
     "output_type": "display_data"
    }
   ],
   "source": [
    "numdocs = 11\n",
    "docs = \"\"\"NYC is the Big Apple.\n",
    "NYC is known as the Big Apple.\n",
    "I love NYC!\n",
    "I wore a hat to the Big Apple party in NYC.\n",
    "Come to NYC. See the Big Apple!\n",
    "Manhattan is called the Big Apple.\n",
    "New York is a big city for a small cat.\n",
    "The lion, a big cat, is the king of the jungle.\n",
    "I love my pet cat.\n",
    "I love New York City (NYC).\n",
    "Your dog chased my cat.\"\"\".split('\\n')\n",
    "vocabulary = 'cat dog apple lion NYC love'.lower().split()\n",
    "lsa_bow_model, lsa_tfidf_model = lsa_models(vocabulary = vocabulary, docs = docs)\n",
    "tdm = lsa_bow_model['tdm']\n",
    "tfidfdm = lsa_tfidf_model['tdm']\n",
    "\n",
    "acc = plot_feature_selection(accuracy = lsa_bow_model['accuracy'])\n",
    "print(\"BOW accuracy after multiplying Truncated SVD back:\")\n",
    "print(np.array(acc).round(3))\n",
    "\n",
    "acc = plot_feature_selection(accuracy = lsa_tfidf_model['accuracy'])\n",
    "print(\"TF-IDF accuracy after multiplying Truncated SVD back:\")\n",
    "print(np.array(acc).round(3))\n",
    "\n",
    "plt.legend(['BOW Reconstruction Accuracy', 'TF-IDF Reconstruction Accuracy'])\n",
    "plt.show()"
   ]
  },
  {
   "cell_type": "markdown",
   "metadata": {},
   "source": [
    "# Construct topic matrix for corpus"
   ]
  },
  {
   "cell_type": "markdown",
   "metadata": {},
   "source": [
    "**Có 2 cách: dùng mô hình PCA hoặc dùng TruncatedSVD.**\n",
    "\n",
    "**Tuy nhiên, TruncatedSVD thường được dùng cho ma trận thưa**\n"
   ]
  },
  {
   "cell_type": "markdown",
   "metadata": {},
   "source": [
    "## PCA for building topic matrix"
   ]
  },
  {
   "cell_type": "markdown",
   "metadata": {},
   "source": [
    "mô hình PCA là mô hình sử dụng ý tưởng SVD để giảm số chiều. PCA sẽ có thêm một số cải tiến so với SVD để cải thiện đội chính xác khi áp dụng cho NLP.\n",
    "Đầu tiên, PCA center dữ liệu. Tức là, PCA gán lại mỗi điểm dữ liệu = hiệu của nó với giá trị trung bình của toàn bộ dữ liệu. Khi đó độ lệch chuẩn của bộ dữ liệu không đổi và kỳ vọng của nó =0. \n",
    "\n",
    "Ngoài ra PCA còn có một function: flip_sign để tính toán dấu của các singular vectors. Với giá trị cho đường chéo trên ma trận S, thay vì chuyển hết về 1 như SVD, PCA sẽ thay vào đó bằng thương của dữ liệu và phương sai của nó (giống như StandardScaler) \n"
   ]
  },
  {
   "cell_type": "markdown",
   "metadata": {},
   "source": [
    "Thực hiện xây dựng mô hình pca, đầu vào là term-document matrix (cụ thể là tfidf matrix) đã được centering"
   ]
  },
  {
   "cell_type": "code",
   "execution_count": 15,
   "metadata": {},
   "outputs": [
    {
     "name": "stdout",
     "output_type": "stream",
     "text": [
      "lenght: 4837\n",
      "number of spams: 638\n"
     ]
    },
    {
     "data": {
      "text/html": [
       "<div>\n",
       "<style scoped>\n",
       "    .dataframe tbody tr th:only-of-type {\n",
       "        vertical-align: middle;\n",
       "    }\n",
       "\n",
       "    .dataframe tbody tr th {\n",
       "        vertical-align: top;\n",
       "    }\n",
       "\n",
       "    .dataframe thead th {\n",
       "        text-align: right;\n",
       "    }\n",
       "</style>\n",
       "<table border=\"1\" class=\"dataframe\">\n",
       "  <thead>\n",
       "    <tr style=\"text-align: right;\">\n",
       "      <th></th>\n",
       "      <th>spam</th>\n",
       "      <th>text</th>\n",
       "    </tr>\n",
       "  </thead>\n",
       "  <tbody>\n",
       "    <tr>\n",
       "      <th>sms0</th>\n",
       "      <td>0</td>\n",
       "      <td>Go until jurong point, crazy.. Available only ...</td>\n",
       "    </tr>\n",
       "    <tr>\n",
       "      <th>sms1</th>\n",
       "      <td>0</td>\n",
       "      <td>Ok lar... Joking wif u oni...</td>\n",
       "    </tr>\n",
       "    <tr>\n",
       "      <th>sms2!</th>\n",
       "      <td>1</td>\n",
       "      <td>Free entry in 2 a wkly comp to win FA Cup fina...</td>\n",
       "    </tr>\n",
       "    <tr>\n",
       "      <th>sms3</th>\n",
       "      <td>0</td>\n",
       "      <td>U dun say so early hor... U c already then say...</td>\n",
       "    </tr>\n",
       "    <tr>\n",
       "      <th>sms4</th>\n",
       "      <td>0</td>\n",
       "      <td>Nah I don't think he goes to usf, he lives aro...</td>\n",
       "    </tr>\n",
       "  </tbody>\n",
       "</table>\n",
       "</div>"
      ],
      "text/plain": [
       "       spam                                               text\n",
       "sms0      0  Go until jurong point, crazy.. Available only ...\n",
       "sms1      0                      Ok lar... Joking wif u oni...\n",
       "sms2!     1  Free entry in 2 a wkly comp to win FA Cup fina...\n",
       "sms3      0  U dun say so early hor... U c already then say...\n",
       "sms4      0  Nah I don't think he goes to usf, he lives aro..."
      ]
     },
     "execution_count": 15,
     "metadata": {},
     "output_type": "execute_result"
    }
   ],
   "source": [
    "sms = pd.read_csv('sms-spam.csv')\n",
    "print('lenght: {}'.format(len(sms)))\n",
    "print('number of spams: {}'.format(sms.spam.sum()))\n",
    "index = ['sms{}{}'.format(i, '!'*j) for (i, j) in zip(range(len(sms)), sms.spam)]\n",
    "sms.index = index\n",
    "sms.head()"
   ]
  },
  {
   "cell_type": "code",
   "execution_count": 16,
   "metadata": {},
   "outputs": [],
   "source": [
    "tfidf_model = TfidfVectorizer(tokenizer=casual_tokenize)\n",
    "tfidf_docs = tfidf_model.fit_transform(sms.text).toarray()\n",
    "tfidf_docs = pd.DataFrame(tfidf_docs)\n",
    "tfidf_docs = tfidf_docs - tfidf_docs.mean() #centering data"
   ]
  },
  {
   "cell_type": "code",
   "execution_count": 33,
   "metadata": {},
   "outputs": [],
   "source": [
    "from sklearn.decomposition import PCA\n",
    "pca = PCA(n_components = 16)\n",
    "pca = pca.fit(tfidf_docs)"
   ]
  },
  {
   "cell_type": "markdown",
   "metadata": {},
   "source": [
    "Từ mô hình pca đã huấn luyện, ta có thể tính toán được ma trận các topic vector của tập văn bản. Như dưới đây là ma trận gồm 16 topic vectors"
   ]
  },
  {
   "cell_type": "code",
   "execution_count": 34,
   "metadata": {},
   "outputs": [
    {
     "data": {
      "text/html": [
       "<div>\n",
       "<style scoped>\n",
       "    .dataframe tbody tr th:only-of-type {\n",
       "        vertical-align: middle;\n",
       "    }\n",
       "\n",
       "    .dataframe tbody tr th {\n",
       "        vertical-align: top;\n",
       "    }\n",
       "\n",
       "    .dataframe thead th {\n",
       "        text-align: right;\n",
       "    }\n",
       "</style>\n",
       "<table border=\"1\" class=\"dataframe\">\n",
       "  <thead>\n",
       "    <tr style=\"text-align: right;\">\n",
       "      <th></th>\n",
       "      <th>topic0</th>\n",
       "      <th>topic1</th>\n",
       "      <th>topic2</th>\n",
       "      <th>topic3</th>\n",
       "      <th>topic4</th>\n",
       "      <th>topic5</th>\n",
       "      <th>...</th>\n",
       "      <th>topic10</th>\n",
       "      <th>topic11</th>\n",
       "      <th>topic12</th>\n",
       "      <th>topic13</th>\n",
       "      <th>topic14</th>\n",
       "      <th>topic15</th>\n",
       "    </tr>\n",
       "  </thead>\n",
       "  <tbody>\n",
       "    <tr>\n",
       "      <th>sms0</th>\n",
       "      <td>0.201</td>\n",
       "      <td>0.003</td>\n",
       "      <td>0.037</td>\n",
       "      <td>0.011</td>\n",
       "      <td>-0.019</td>\n",
       "      <td>-0.053</td>\n",
       "      <td>...</td>\n",
       "      <td>0.006</td>\n",
       "      <td>0.008</td>\n",
       "      <td>-0.005</td>\n",
       "      <td>-0.037</td>\n",
       "      <td>-0.017</td>\n",
       "      <td>0.034</td>\n",
       "    </tr>\n",
       "    <tr>\n",
       "      <th>sms1</th>\n",
       "      <td>0.404</td>\n",
       "      <td>-0.094</td>\n",
       "      <td>-0.078</td>\n",
       "      <td>0.051</td>\n",
       "      <td>0.100</td>\n",
       "      <td>0.047</td>\n",
       "      <td>...</td>\n",
       "      <td>-0.003</td>\n",
       "      <td>-0.038</td>\n",
       "      <td>0.042</td>\n",
       "      <td>-0.021</td>\n",
       "      <td>0.051</td>\n",
       "      <td>-0.043</td>\n",
       "    </tr>\n",
       "    <tr>\n",
       "      <th>sms2!</th>\n",
       "      <td>-0.030</td>\n",
       "      <td>-0.048</td>\n",
       "      <td>0.090</td>\n",
       "      <td>-0.067</td>\n",
       "      <td>0.091</td>\n",
       "      <td>-0.043</td>\n",
       "      <td>...</td>\n",
       "      <td>0.124</td>\n",
       "      <td>-0.028</td>\n",
       "      <td>0.019</td>\n",
       "      <td>-0.019</td>\n",
       "      <td>-0.039</td>\n",
       "      <td>0.054</td>\n",
       "    </tr>\n",
       "    <tr>\n",
       "      <th>sms3</th>\n",
       "      <td>0.329</td>\n",
       "      <td>-0.033</td>\n",
       "      <td>-0.035</td>\n",
       "      <td>-0.016</td>\n",
       "      <td>0.052</td>\n",
       "      <td>0.056</td>\n",
       "      <td>...</td>\n",
       "      <td>0.023</td>\n",
       "      <td>-0.032</td>\n",
       "      <td>0.073</td>\n",
       "      <td>-0.047</td>\n",
       "      <td>0.024</td>\n",
       "      <td>-0.060</td>\n",
       "    </tr>\n",
       "    <tr>\n",
       "      <th>sms4</th>\n",
       "      <td>0.002</td>\n",
       "      <td>0.031</td>\n",
       "      <td>0.038</td>\n",
       "      <td>0.034</td>\n",
       "      <td>-0.075</td>\n",
       "      <td>-0.093</td>\n",
       "      <td>...</td>\n",
       "      <td>0.029</td>\n",
       "      <td>0.001</td>\n",
       "      <td>0.026</td>\n",
       "      <td>0.035</td>\n",
       "      <td>-0.080</td>\n",
       "      <td>-0.027</td>\n",
       "    </tr>\n",
       "    <tr>\n",
       "      <th>sms5!</th>\n",
       "      <td>-0.016</td>\n",
       "      <td>0.059</td>\n",
       "      <td>0.014</td>\n",
       "      <td>-0.006</td>\n",
       "      <td>0.122</td>\n",
       "      <td>-0.040</td>\n",
       "      <td>...</td>\n",
       "      <td>0.036</td>\n",
       "      <td>-0.034</td>\n",
       "      <td>-0.020</td>\n",
       "      <td>0.074</td>\n",
       "      <td>-0.002</td>\n",
       "      <td>0.028</td>\n",
       "    </tr>\n",
       "  </tbody>\n",
       "</table>\n",
       "<p>6 rows × 16 columns</p>\n",
       "</div>"
      ],
      "text/plain": [
       "       topic0  topic1  topic2  topic3  topic4  topic5  ...  topic10  topic11  \\\n",
       "sms0    0.201   0.003   0.037   0.011  -0.019  -0.053  ...    0.006    0.008   \n",
       "sms1    0.404  -0.094  -0.078   0.051   0.100   0.047  ...   -0.003   -0.038   \n",
       "sms2!  -0.030  -0.048   0.090  -0.067   0.091  -0.043  ...    0.124   -0.028   \n",
       "sms3    0.329  -0.033  -0.035  -0.016   0.052   0.056  ...    0.023   -0.032   \n",
       "sms4    0.002   0.031   0.038   0.034  -0.075  -0.093  ...    0.029    0.001   \n",
       "sms5!  -0.016   0.059   0.014  -0.006   0.122  -0.040  ...    0.036   -0.034   \n",
       "\n",
       "       topic12  topic13  topic14  topic15  \n",
       "sms0    -0.005   -0.037   -0.017    0.034  \n",
       "sms1     0.042   -0.021    0.051   -0.043  \n",
       "sms2!    0.019   -0.019   -0.039    0.054  \n",
       "sms3     0.073   -0.047    0.024   -0.060  \n",
       "sms4     0.026    0.035   -0.080   -0.027  \n",
       "sms5!   -0.020    0.074   -0.002    0.028  \n",
       "\n",
       "[6 rows x 16 columns]"
      ]
     },
     "execution_count": 34,
     "metadata": {},
     "output_type": "execute_result"
    }
   ],
   "source": [
    "pca_topic_vectors = pca.transform(tfidf_docs)\n",
    "columns = ['topic{}'.format(i) for i in range(pca.n_components)]\n",
    "pca_topic_vectors = pd.DataFrame(pca_topic_vectors, columns = columns, index = index)\n",
    "pca_topic_vectors.head(6).round(3)"
   ]
  },
  {
   "cell_type": "markdown",
   "metadata": {},
   "source": [
    "Ngoài ra, ta có thể xem mức độ quan trọng của mỗi từ trong từng topic nhờ iệc gọi thuộc tính PCA.components_ của mô hình. Nó trả về ma trận term-topic chứa các trọng số tương ứng của từng term trong từng topic.\n",
    "\n",
    "Nên sắp xếp tập từ vựng theo chiều tăng dần của giá trị tfidf khi in ra ma trận trọng số này."
   ]
  },
  {
   "cell_type": "code",
   "execution_count": 37,
   "metadata": {},
   "outputs": [
    {
     "data": {
      "text/plain": [
       "('!',\n",
       " '\"',\n",
       " '#',\n",
       " '#150',\n",
       " '#5000',\n",
       " '$',\n",
       " '%',\n",
       " '&',\n",
       " \"'\",\n",
       " '(',\n",
       " ')',\n",
       " '*',\n",
       " '+',\n",
       " ',',\n",
       " '-',\n",
       " '.',\n",
       " '. .',\n",
       " '. . .',\n",
       " '. . . .',\n",
       " '. . . . .')"
      ]
     },
     "execution_count": 37,
     "metadata": {},
     "output_type": "execute_result"
    }
   ],
   "source": [
    "column_nums, terms = zip(*sorted(zip(tfidf_model.vocabulary_.values(), tfidf_model.vocabulary_.keys())))\n",
    "terms[:20]"
   ]
  },
  {
   "cell_type": "code",
   "execution_count": 19,
   "metadata": {},
   "outputs": [
    {
     "data": {
      "text/html": [
       "<div>\n",
       "<style scoped>\n",
       "    .dataframe tbody tr th:only-of-type {\n",
       "        vertical-align: middle;\n",
       "    }\n",
       "\n",
       "    .dataframe tbody tr th {\n",
       "        vertical-align: top;\n",
       "    }\n",
       "\n",
       "    .dataframe thead th {\n",
       "        text-align: right;\n",
       "    }\n",
       "</style>\n",
       "<table border=\"1\" class=\"dataframe\">\n",
       "  <thead>\n",
       "    <tr style=\"text-align: right;\">\n",
       "      <th></th>\n",
       "      <th>!</th>\n",
       "      <th>\"</th>\n",
       "      <th>#</th>\n",
       "      <th>#150</th>\n",
       "      <th>...</th>\n",
       "      <th>…</th>\n",
       "      <th>┾</th>\n",
       "      <th>〨ud</th>\n",
       "      <th>鈥</th>\n",
       "    </tr>\n",
       "  </thead>\n",
       "  <tbody>\n",
       "    <tr>\n",
       "      <th>topic0</th>\n",
       "      <td>-0.071</td>\n",
       "      <td>0.008</td>\n",
       "      <td>-0.001</td>\n",
       "      <td>-0.000</td>\n",
       "      <td>...</td>\n",
       "      <td>-0.002</td>\n",
       "      <td>0.001</td>\n",
       "      <td>0.001</td>\n",
       "      <td>0.001</td>\n",
       "    </tr>\n",
       "    <tr>\n",
       "      <th>topic1</th>\n",
       "      <td>0.063</td>\n",
       "      <td>0.008</td>\n",
       "      <td>0.000</td>\n",
       "      <td>-0.000</td>\n",
       "      <td>...</td>\n",
       "      <td>0.003</td>\n",
       "      <td>0.001</td>\n",
       "      <td>0.001</td>\n",
       "      <td>0.001</td>\n",
       "    </tr>\n",
       "    <tr>\n",
       "      <th>topic2</th>\n",
       "      <td>0.071</td>\n",
       "      <td>0.027</td>\n",
       "      <td>0.000</td>\n",
       "      <td>0.001</td>\n",
       "      <td>...</td>\n",
       "      <td>0.002</td>\n",
       "      <td>-0.001</td>\n",
       "      <td>-0.001</td>\n",
       "      <td>-0.001</td>\n",
       "    </tr>\n",
       "    <tr>\n",
       "      <th>topic3</th>\n",
       "      <td>-0.059</td>\n",
       "      <td>-0.032</td>\n",
       "      <td>-0.001</td>\n",
       "      <td>-0.000</td>\n",
       "      <td>...</td>\n",
       "      <td>0.001</td>\n",
       "      <td>0.001</td>\n",
       "      <td>0.001</td>\n",
       "      <td>0.001</td>\n",
       "    </tr>\n",
       "    <tr>\n",
       "      <th>topic4</th>\n",
       "      <td>0.381</td>\n",
       "      <td>-0.008</td>\n",
       "      <td>0.001</td>\n",
       "      <td>0.001</td>\n",
       "      <td>...</td>\n",
       "      <td>0.002</td>\n",
       "      <td>0.001</td>\n",
       "      <td>0.001</td>\n",
       "      <td>0.001</td>\n",
       "    </tr>\n",
       "    <tr>\n",
       "      <th>topic5</th>\n",
       "      <td>-0.265</td>\n",
       "      <td>-0.053</td>\n",
       "      <td>0.002</td>\n",
       "      <td>0.000</td>\n",
       "      <td>...</td>\n",
       "      <td>-0.003</td>\n",
       "      <td>-0.001</td>\n",
       "      <td>-0.001</td>\n",
       "      <td>-0.001</td>\n",
       "    </tr>\n",
       "  </tbody>\n",
       "</table>\n",
       "<p>6 rows × 9232 columns</p>\n",
       "</div>"
      ],
      "text/plain": [
       "            !      \"      #   #150  ...      …      ┾    〨ud      鈥\n",
       "topic0 -0.071  0.008 -0.001 -0.000  ... -0.002  0.001  0.001  0.001\n",
       "topic1  0.063  0.008  0.000 -0.000  ...  0.003  0.001  0.001  0.001\n",
       "topic2  0.071  0.027  0.000  0.001  ...  0.002 -0.001 -0.001 -0.001\n",
       "topic3 -0.059 -0.032 -0.001 -0.000  ...  0.001  0.001  0.001  0.001\n",
       "topic4  0.381 -0.008  0.001  0.001  ...  0.002  0.001  0.001  0.001\n",
       "topic5 -0.265 -0.053  0.002  0.000  ... -0.003 -0.001 -0.001 -0.001\n",
       "\n",
       "[6 rows x 9232 columns]"
      ]
     },
     "execution_count": 19,
     "metadata": {},
     "output_type": "execute_result"
    }
   ],
   "source": [
    "weights = pd.DataFrame(pca.components_, columns = terms, index =['topic{}'.format(i) for i in range(16)])\n",
    "pd.options.display.max_columns = 8\n",
    "weights.head(6).round(3)"
   ]
  },
  {
   "cell_type": "code",
   "execution_count": 20,
   "metadata": {},
   "outputs": [
    {
     "data": {
      "text/html": [
       "<div>\n",
       "<style scoped>\n",
       "    .dataframe tbody tr th:only-of-type {\n",
       "        vertical-align: middle;\n",
       "    }\n",
       "\n",
       "    .dataframe tbody tr th {\n",
       "        vertical-align: top;\n",
       "    }\n",
       "\n",
       "    .dataframe thead th {\n",
       "        text-align: right;\n",
       "    }\n",
       "</style>\n",
       "<table border=\"1\" class=\"dataframe\">\n",
       "  <thead>\n",
       "    <tr style=\"text-align: right;\">\n",
       "      <th></th>\n",
       "      <th>!</th>\n",
       "      <th>;)</th>\n",
       "      <th>:)</th>\n",
       "      <th>half</th>\n",
       "      <th>off</th>\n",
       "      <th>free</th>\n",
       "      <th>crazy</th>\n",
       "      <th>deal</th>\n",
       "      <th>only</th>\n",
       "      <th>$</th>\n",
       "      <th>80</th>\n",
       "      <th>%</th>\n",
       "    </tr>\n",
       "  </thead>\n",
       "  <tbody>\n",
       "    <tr>\n",
       "      <th>topic0</th>\n",
       "      <td>-0.071</td>\n",
       "      <td>0.001</td>\n",
       "      <td>-0.005</td>\n",
       "      <td>-0.000</td>\n",
       "      <td>-0.004</td>\n",
       "      <td>-0.020</td>\n",
       "      <td>-0.000</td>\n",
       "      <td>-0.001</td>\n",
       "      <td>-0.022</td>\n",
       "      <td>0.003</td>\n",
       "      <td>-0.000</td>\n",
       "      <td>-0.000</td>\n",
       "    </tr>\n",
       "    <tr>\n",
       "      <th>topic1</th>\n",
       "      <td>0.063</td>\n",
       "      <td>0.000</td>\n",
       "      <td>0.074</td>\n",
       "      <td>0.001</td>\n",
       "      <td>0.004</td>\n",
       "      <td>-0.023</td>\n",
       "      <td>-0.002</td>\n",
       "      <td>-0.001</td>\n",
       "      <td>-0.038</td>\n",
       "      <td>-0.001</td>\n",
       "      <td>-0.000</td>\n",
       "      <td>-0.002</td>\n",
       "    </tr>\n",
       "    <tr>\n",
       "      <th>topic2</th>\n",
       "      <td>0.071</td>\n",
       "      <td>0.002</td>\n",
       "      <td>-0.001</td>\n",
       "      <td>0.000</td>\n",
       "      <td>0.003</td>\n",
       "      <td>0.044</td>\n",
       "      <td>0.001</td>\n",
       "      <td>-0.001</td>\n",
       "      <td>0.007</td>\n",
       "      <td>0.000</td>\n",
       "      <td>0.000</td>\n",
       "      <td>0.001</td>\n",
       "    </tr>\n",
       "    <tr>\n",
       "      <th>topic3</th>\n",
       "      <td>-0.059</td>\n",
       "      <td>-0.003</td>\n",
       "      <td>-0.071</td>\n",
       "      <td>0.002</td>\n",
       "      <td>0.003</td>\n",
       "      <td>-0.002</td>\n",
       "      <td>0.000</td>\n",
       "      <td>0.001</td>\n",
       "      <td>-0.023</td>\n",
       "      <td>0.001</td>\n",
       "      <td>-0.001</td>\n",
       "      <td>-0.003</td>\n",
       "    </tr>\n",
       "    <tr>\n",
       "      <th>topic4</th>\n",
       "      <td>0.381</td>\n",
       "      <td>-0.001</td>\n",
       "      <td>-0.124</td>\n",
       "      <td>-0.001</td>\n",
       "      <td>-0.002</td>\n",
       "      <td>0.098</td>\n",
       "      <td>0.001</td>\n",
       "      <td>-0.002</td>\n",
       "      <td>0.030</td>\n",
       "      <td>0.003</td>\n",
       "      <td>0.001</td>\n",
       "      <td>-0.001</td>\n",
       "    </tr>\n",
       "    <tr>\n",
       "      <th>topic5</th>\n",
       "      <td>-0.265</td>\n",
       "      <td>0.001</td>\n",
       "      <td>-0.016</td>\n",
       "      <td>-0.003</td>\n",
       "      <td>-0.007</td>\n",
       "      <td>-0.014</td>\n",
       "      <td>-0.006</td>\n",
       "      <td>-0.002</td>\n",
       "      <td>-0.018</td>\n",
       "      <td>-0.009</td>\n",
       "      <td>0.000</td>\n",
       "      <td>0.000</td>\n",
       "    </tr>\n",
       "    <tr>\n",
       "      <th>topic6</th>\n",
       "      <td>-0.109</td>\n",
       "      <td>-0.005</td>\n",
       "      <td>0.199</td>\n",
       "      <td>-0.004</td>\n",
       "      <td>-0.009</td>\n",
       "      <td>-0.005</td>\n",
       "      <td>-0.002</td>\n",
       "      <td>-0.001</td>\n",
       "      <td>-0.014</td>\n",
       "      <td>-0.000</td>\n",
       "      <td>-0.000</td>\n",
       "      <td>-0.001</td>\n",
       "    </tr>\n",
       "    <tr>\n",
       "      <th>topic7</th>\n",
       "      <td>0.162</td>\n",
       "      <td>0.001</td>\n",
       "      <td>-0.177</td>\n",
       "      <td>0.007</td>\n",
       "      <td>0.008</td>\n",
       "      <td>-0.029</td>\n",
       "      <td>0.000</td>\n",
       "      <td>0.001</td>\n",
       "      <td>-0.017</td>\n",
       "      <td>-0.003</td>\n",
       "      <td>0.000</td>\n",
       "      <td>-0.001</td>\n",
       "    </tr>\n",
       "    <tr>\n",
       "      <th>topic8</th>\n",
       "      <td>0.345</td>\n",
       "      <td>0.001</td>\n",
       "      <td>0.050</td>\n",
       "      <td>-0.004</td>\n",
       "      <td>-0.005</td>\n",
       "      <td>-0.000</td>\n",
       "      <td>-0.004</td>\n",
       "      <td>-0.004</td>\n",
       "      <td>0.032</td>\n",
       "      <td>-0.006</td>\n",
       "      <td>-0.000</td>\n",
       "      <td>-0.002</td>\n",
       "    </tr>\n",
       "    <tr>\n",
       "      <th>topic9</th>\n",
       "      <td>0.076</td>\n",
       "      <td>-0.003</td>\n",
       "      <td>0.170</td>\n",
       "      <td>0.014</td>\n",
       "      <td>-0.009</td>\n",
       "      <td>0.064</td>\n",
       "      <td>-0.005</td>\n",
       "      <td>-0.004</td>\n",
       "      <td>0.032</td>\n",
       "      <td>-0.004</td>\n",
       "      <td>-0.000</td>\n",
       "      <td>0.001</td>\n",
       "    </tr>\n",
       "    <tr>\n",
       "      <th>topic10</th>\n",
       "      <td>-0.324</td>\n",
       "      <td>-0.002</td>\n",
       "      <td>-0.102</td>\n",
       "      <td>0.001</td>\n",
       "      <td>0.001</td>\n",
       "      <td>0.124</td>\n",
       "      <td>0.001</td>\n",
       "      <td>0.000</td>\n",
       "      <td>0.001</td>\n",
       "      <td>0.000</td>\n",
       "      <td>-0.000</td>\n",
       "      <td>-0.001</td>\n",
       "    </tr>\n",
       "    <tr>\n",
       "      <th>topic11</th>\n",
       "      <td>0.216</td>\n",
       "      <td>0.004</td>\n",
       "      <td>0.326</td>\n",
       "      <td>0.004</td>\n",
       "      <td>0.014</td>\n",
       "      <td>-0.056</td>\n",
       "      <td>0.000</td>\n",
       "      <td>0.001</td>\n",
       "      <td>0.004</td>\n",
       "      <td>-0.005</td>\n",
       "      <td>-0.000</td>\n",
       "      <td>-0.004</td>\n",
       "    </tr>\n",
       "    <tr>\n",
       "      <th>topic12</th>\n",
       "      <td>0.264</td>\n",
       "      <td>0.001</td>\n",
       "      <td>-0.218</td>\n",
       "      <td>0.000</td>\n",
       "      <td>0.001</td>\n",
       "      <td>0.055</td>\n",
       "      <td>0.006</td>\n",
       "      <td>-0.000</td>\n",
       "      <td>-0.035</td>\n",
       "      <td>-0.004</td>\n",
       "      <td>0.000</td>\n",
       "      <td>-0.003</td>\n",
       "    </tr>\n",
       "    <tr>\n",
       "      <th>topic13</th>\n",
       "      <td>0.010</td>\n",
       "      <td>-0.003</td>\n",
       "      <td>0.388</td>\n",
       "      <td>-0.002</td>\n",
       "      <td>0.005</td>\n",
       "      <td>0.028</td>\n",
       "      <td>0.001</td>\n",
       "      <td>0.001</td>\n",
       "      <td>-0.020</td>\n",
       "      <td>-0.001</td>\n",
       "      <td>0.000</td>\n",
       "      <td>-0.000</td>\n",
       "    </tr>\n",
       "    <tr>\n",
       "      <th>topic14</th>\n",
       "      <td>-0.003</td>\n",
       "      <td>-0.000</td>\n",
       "      <td>0.181</td>\n",
       "      <td>-0.003</td>\n",
       "      <td>-0.007</td>\n",
       "      <td>0.066</td>\n",
       "      <td>0.001</td>\n",
       "      <td>-0.001</td>\n",
       "      <td>0.031</td>\n",
       "      <td>0.000</td>\n",
       "      <td>0.001</td>\n",
       "      <td>-0.003</td>\n",
       "    </tr>\n",
       "    <tr>\n",
       "      <th>topic15</th>\n",
       "      <td>-0.118</td>\n",
       "      <td>0.006</td>\n",
       "      <td>0.004</td>\n",
       "      <td>0.007</td>\n",
       "      <td>0.014</td>\n",
       "      <td>0.044</td>\n",
       "      <td>0.006</td>\n",
       "      <td>-0.004</td>\n",
       "      <td>-0.024</td>\n",
       "      <td>0.006</td>\n",
       "      <td>-0.001</td>\n",
       "      <td>0.002</td>\n",
       "    </tr>\n",
       "  </tbody>\n",
       "</table>\n",
       "</div>"
      ],
      "text/plain": [
       "             !     ;)     :)   half    off   free  crazy   deal   only      $  \\\n",
       "topic0  -0.071  0.001 -0.005 -0.000 -0.004 -0.020 -0.000 -0.001 -0.022  0.003   \n",
       "topic1   0.063  0.000  0.074  0.001  0.004 -0.023 -0.002 -0.001 -0.038 -0.001   \n",
       "topic2   0.071  0.002 -0.001  0.000  0.003  0.044  0.001 -0.001  0.007  0.000   \n",
       "topic3  -0.059 -0.003 -0.071  0.002  0.003 -0.002  0.000  0.001 -0.023  0.001   \n",
       "topic4   0.381 -0.001 -0.124 -0.001 -0.002  0.098  0.001 -0.002  0.030  0.003   \n",
       "topic5  -0.265  0.001 -0.016 -0.003 -0.007 -0.014 -0.006 -0.002 -0.018 -0.009   \n",
       "topic6  -0.109 -0.005  0.199 -0.004 -0.009 -0.005 -0.002 -0.001 -0.014 -0.000   \n",
       "topic7   0.162  0.001 -0.177  0.007  0.008 -0.029  0.000  0.001 -0.017 -0.003   \n",
       "topic8   0.345  0.001  0.050 -0.004 -0.005 -0.000 -0.004 -0.004  0.032 -0.006   \n",
       "topic9   0.076 -0.003  0.170  0.014 -0.009  0.064 -0.005 -0.004  0.032 -0.004   \n",
       "topic10 -0.324 -0.002 -0.102  0.001  0.001  0.124  0.001  0.000  0.001  0.000   \n",
       "topic11  0.216  0.004  0.326  0.004  0.014 -0.056  0.000  0.001  0.004 -0.005   \n",
       "topic12  0.264  0.001 -0.218  0.000  0.001  0.055  0.006 -0.000 -0.035 -0.004   \n",
       "topic13  0.010 -0.003  0.388 -0.002  0.005  0.028  0.001  0.001 -0.020 -0.001   \n",
       "topic14 -0.003 -0.000  0.181 -0.003 -0.007  0.066  0.001 -0.001  0.031  0.000   \n",
       "topic15 -0.118  0.006  0.004  0.007  0.014  0.044  0.006 -0.004 -0.024  0.006   \n",
       "\n",
       "            80      %  \n",
       "topic0  -0.000 -0.000  \n",
       "topic1  -0.000 -0.002  \n",
       "topic2   0.000  0.001  \n",
       "topic3  -0.001 -0.003  \n",
       "topic4   0.001 -0.001  \n",
       "topic5   0.000  0.000  \n",
       "topic6  -0.000 -0.001  \n",
       "topic7   0.000 -0.001  \n",
       "topic8  -0.000 -0.002  \n",
       "topic9  -0.000  0.001  \n",
       "topic10 -0.000 -0.001  \n",
       "topic11 -0.000 -0.004  \n",
       "topic12  0.000 -0.003  \n",
       "topic13  0.000 -0.000  \n",
       "topic14  0.001 -0.003  \n",
       "topic15 -0.001  0.002  "
      ]
     },
     "execution_count": 20,
     "metadata": {},
     "output_type": "execute_result"
    }
   ],
   "source": [
    "pd.options.display.max_columns = 12\n",
    "deals = weights['! ;) :) half off free crazy deal only $ 80 %'.split()].round(3)\n",
    "deals"
   ]
  },
  {
   "cell_type": "code",
   "execution_count": 21,
   "metadata": {},
   "outputs": [
    {
     "data": {
      "text/plain": [
       "topic0    -0.119\n",
       "topic1     0.075\n",
       "topic2     0.127\n",
       "topic3    -0.155\n",
       "topic4     0.383\n",
       "topic5    -0.339\n",
       "topic6     0.049\n",
       "topic7    -0.048\n",
       "topic8     0.403\n",
       "topic9     0.332\n",
       "topic10   -0.301\n",
       "topic11    0.504\n",
       "topic12    0.067\n",
       "topic13    0.407\n",
       "topic14    0.263\n",
       "topic15   -0.058\n",
       "dtype: float64"
      ]
     },
     "execution_count": 21,
     "metadata": {},
     "output_type": "execute_result"
    }
   ],
   "source": [
    "deals.T.sum()"
   ]
  },
  {
   "cell_type": "markdown",
   "metadata": {},
   "source": [
    "Từ kết quả trên có thể thấy các topic 2, 4, 8, 9, 11, 13, 14 là các topic liên quan nhiều đến deals"
   ]
  },
  {
   "cell_type": "code",
   "execution_count": 22,
   "metadata": {},
   "outputs": [
    {
     "data": {
      "text/plain": [
       "array([7.54098214, 6.55000336, 6.50746799, 6.27568214, 5.82140253,\n",
       "       5.71155001, 5.51093702, 5.08089921, 5.03179674, 4.94211245,\n",
       "       4.80381782, 4.54257812, 4.46565363, 4.44038938, 4.39999834,\n",
       "       4.32670487])"
      ]
     },
     "execution_count": 22,
     "metadata": {},
     "output_type": "execute_result"
    }
   ],
   "source": [
    "pca.singular_values_"
   ]
  },
  {
   "cell_type": "markdown",
   "metadata": {},
   "source": [
    "## TruncatedSVD for building topic matrix"
   ]
  },
  {
   "cell_type": "markdown",
   "metadata": {},
   "source": [
    "TruncatedSVD cũng phân tích ma trận TF-IDF thành 3 ma trận thừa số. Nó sẽ loại bỏ những chiều (topic) mà chứa ít thông tin"
   ]
  },
  {
   "cell_type": "code",
   "execution_count": 35,
   "metadata": {},
   "outputs": [
    {
     "data": {
      "text/html": [
       "<div>\n",
       "<style scoped>\n",
       "    .dataframe tbody tr th:only-of-type {\n",
       "        vertical-align: middle;\n",
       "    }\n",
       "\n",
       "    .dataframe tbody tr th {\n",
       "        vertical-align: top;\n",
       "    }\n",
       "\n",
       "    .dataframe thead th {\n",
       "        text-align: right;\n",
       "    }\n",
       "</style>\n",
       "<table border=\"1\" class=\"dataframe\">\n",
       "  <thead>\n",
       "    <tr style=\"text-align: right;\">\n",
       "      <th></th>\n",
       "      <th>topic0</th>\n",
       "      <th>topic1</th>\n",
       "      <th>topic2</th>\n",
       "      <th>topic3</th>\n",
       "      <th>topic4</th>\n",
       "      <th>topic5</th>\n",
       "      <th>...</th>\n",
       "      <th>topic10</th>\n",
       "      <th>topic11</th>\n",
       "      <th>topic12</th>\n",
       "      <th>topic13</th>\n",
       "      <th>topic14</th>\n",
       "      <th>topic15</th>\n",
       "    </tr>\n",
       "  </thead>\n",
       "  <tbody>\n",
       "    <tr>\n",
       "      <th>sms0</th>\n",
       "      <td>0.201</td>\n",
       "      <td>0.003</td>\n",
       "      <td>0.037</td>\n",
       "      <td>0.011</td>\n",
       "      <td>-0.019</td>\n",
       "      <td>-0.053</td>\n",
       "      <td>...</td>\n",
       "      <td>0.007</td>\n",
       "      <td>-0.007</td>\n",
       "      <td>0.002</td>\n",
       "      <td>-0.036</td>\n",
       "      <td>-0.014</td>\n",
       "      <td>0.037</td>\n",
       "    </tr>\n",
       "    <tr>\n",
       "      <th>sms1</th>\n",
       "      <td>0.404</td>\n",
       "      <td>-0.094</td>\n",
       "      <td>-0.078</td>\n",
       "      <td>0.051</td>\n",
       "      <td>0.100</td>\n",
       "      <td>0.047</td>\n",
       "      <td>...</td>\n",
       "      <td>-0.004</td>\n",
       "      <td>0.036</td>\n",
       "      <td>0.043</td>\n",
       "      <td>-0.021</td>\n",
       "      <td>0.051</td>\n",
       "      <td>-0.042</td>\n",
       "    </tr>\n",
       "    <tr>\n",
       "      <th>sms2!</th>\n",
       "      <td>-0.030</td>\n",
       "      <td>-0.048</td>\n",
       "      <td>0.090</td>\n",
       "      <td>-0.067</td>\n",
       "      <td>0.091</td>\n",
       "      <td>-0.043</td>\n",
       "      <td>...</td>\n",
       "      <td>0.125</td>\n",
       "      <td>0.023</td>\n",
       "      <td>0.026</td>\n",
       "      <td>-0.020</td>\n",
       "      <td>-0.042</td>\n",
       "      <td>0.052</td>\n",
       "    </tr>\n",
       "    <tr>\n",
       "      <th>sms3</th>\n",
       "      <td>0.329</td>\n",
       "      <td>-0.033</td>\n",
       "      <td>-0.035</td>\n",
       "      <td>-0.016</td>\n",
       "      <td>0.052</td>\n",
       "      <td>0.056</td>\n",
       "      <td>...</td>\n",
       "      <td>0.022</td>\n",
       "      <td>0.023</td>\n",
       "      <td>0.073</td>\n",
       "      <td>-0.046</td>\n",
       "      <td>0.022</td>\n",
       "      <td>-0.070</td>\n",
       "    </tr>\n",
       "    <tr>\n",
       "      <th>sms4</th>\n",
       "      <td>0.002</td>\n",
       "      <td>0.031</td>\n",
       "      <td>0.038</td>\n",
       "      <td>0.034</td>\n",
       "      <td>-0.075</td>\n",
       "      <td>-0.093</td>\n",
       "      <td>...</td>\n",
       "      <td>0.028</td>\n",
       "      <td>-0.009</td>\n",
       "      <td>0.027</td>\n",
       "      <td>0.034</td>\n",
       "      <td>-0.083</td>\n",
       "      <td>-0.021</td>\n",
       "    </tr>\n",
       "    <tr>\n",
       "      <th>sms5!</th>\n",
       "      <td>-0.016</td>\n",
       "      <td>0.059</td>\n",
       "      <td>0.014</td>\n",
       "      <td>-0.006</td>\n",
       "      <td>0.122</td>\n",
       "      <td>-0.040</td>\n",
       "      <td>...</td>\n",
       "      <td>0.041</td>\n",
       "      <td>0.055</td>\n",
       "      <td>-0.037</td>\n",
       "      <td>0.075</td>\n",
       "      <td>-0.001</td>\n",
       "      <td>0.020</td>\n",
       "    </tr>\n",
       "  </tbody>\n",
       "</table>\n",
       "<p>6 rows × 16 columns</p>\n",
       "</div>"
      ],
      "text/plain": [
       "       topic0  topic1  topic2  topic3  topic4  topic5  ...  topic10  topic11  \\\n",
       "sms0    0.201   0.003   0.037   0.011  -0.019  -0.053  ...    0.007   -0.007   \n",
       "sms1    0.404  -0.094  -0.078   0.051   0.100   0.047  ...   -0.004    0.036   \n",
       "sms2!  -0.030  -0.048   0.090  -0.067   0.091  -0.043  ...    0.125    0.023   \n",
       "sms3    0.329  -0.033  -0.035  -0.016   0.052   0.056  ...    0.022    0.023   \n",
       "sms4    0.002   0.031   0.038   0.034  -0.075  -0.093  ...    0.028   -0.009   \n",
       "sms5!  -0.016   0.059   0.014  -0.006   0.122  -0.040  ...    0.041    0.055   \n",
       "\n",
       "       topic12  topic13  topic14  topic15  \n",
       "sms0     0.002   -0.036   -0.014    0.037  \n",
       "sms1     0.043   -0.021    0.051   -0.042  \n",
       "sms2!    0.026   -0.020   -0.042    0.052  \n",
       "sms3     0.073   -0.046    0.022   -0.070  \n",
       "sms4     0.027    0.034   -0.083   -0.021  \n",
       "sms5!   -0.037    0.075   -0.001    0.020  \n",
       "\n",
       "[6 rows x 16 columns]"
      ]
     },
     "execution_count": 35,
     "metadata": {},
     "output_type": "execute_result"
    }
   ],
   "source": [
    "from sklearn.decomposition import TruncatedSVD\n",
    "svd = TruncatedSVD(n_components = 16, n_iter =100)\n",
    "svd_topic_vectors = svd.fit_transform(tfidf_docs.values)\n",
    "svd_topic_vectors = pd.DataFrame(svd_topic_vectors, columns = columns, index = index)\n",
    "svd_topic_vectors.head(6).round(3)"
   ]
  },
  {
   "cell_type": "markdown",
   "metadata": {},
   "source": [
    "Ma trận trên gần giống với PCA. Số n_iter càng lớn thì nó càng gần giống với kết quả của PCA"
   ]
  },
  {
   "cell_type": "markdown",
   "metadata": {},
   "source": [
    "Sklearn.PCA thường cung cấp lời giải nhanh hơn TruncatedSVD bằng cách gán giá trị thay cho 0 trong ma trận thưa. Cũng do vậy mà PCA tốn RAM để nhớ 2 ma trận"
   ]
  },
  {
   "cell_type": "markdown",
   "metadata": {},
   "source": [
    "# Use topic vector for spam SMS classification"
   ]
  },
  {
   "cell_type": "markdown",
   "metadata": {},
   "source": [
    "Từ ma trận topic vector rất khó xác định xem từng topic nói về cái gì. \n",
    "\n",
    "Cách sử dụng ở đây là dùng mô hình LDA sử dụng đầu vào là topic vector để huấn luyện"
   ]
  },
  {
   "cell_type": "code",
   "execution_count": 27,
   "metadata": {},
   "outputs": [
    {
     "name": "stdout",
     "output_type": "stream",
     "text": [
      "Accuracy: 0.958 +-0.011\n"
     ]
    }
   ],
   "source": [
    "from sklearn.model_selection import train_test_split, cross_val_score\n",
    "from sklearn.discriminant_analysis import LinearDiscriminantAnalysis as LDA\n",
    "X_train, X_test, y_train, y_test = train_test_split(pca_topic_vectors.values, sms.spam, test_size=0.3, random_state = 271828)\n",
    "\n",
    "lda = LDA(n_components=1)\n",
    "lda = lda.fit(X_train, y_train)\n",
    "lda.score(X_test, y_test).round(3)\n",
    "\n",
    "lda= LDA(n_components=1)\n",
    "# using Stratified 10 folds for evaluate\n",
    "scores = cross_val_score(lda, pca_topic_vectors, sms.spam, cv = 10) \n",
    "print(\"Accuracy: {:.3f} +-{:.3f}\".format(scores.mean(), scores.std()))\n"
   ]
  }
 ],
 "metadata": {
  "kernelspec": {
   "display_name": "Python 3",
   "language": "python",
   "name": "python3"
  },
  "language_info": {
   "codemirror_mode": {
    "name": "ipython",
    "version": 3
   },
   "file_extension": ".py",
   "mimetype": "text/x-python",
   "name": "python",
   "nbconvert_exporter": "python",
   "pygments_lexer": "ipython3",
   "version": "3.7.6"
  },
  "toc": {
   "base_numbering": 1,
   "nav_menu": {},
   "number_sections": true,
   "sideBar": true,
   "skip_h1_title": false,
   "title_cell": "Table of Contents",
   "title_sidebar": "Contents",
   "toc_cell": false,
   "toc_position": {},
   "toc_section_display": true,
   "toc_window_display": true
  }
 },
 "nbformat": 4,
 "nbformat_minor": 4
}
